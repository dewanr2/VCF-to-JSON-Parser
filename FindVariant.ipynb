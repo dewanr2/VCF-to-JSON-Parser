{
 "cells": [
  {
   "cell_type": "markdown",
   "metadata": {},
   "source": [
    "### PART 1"
   ]
  },
  {
   "cell_type": "code",
   "execution_count": 1,
   "metadata": {},
   "outputs": [],
   "source": [
    "def determine_data_type(value):\n",
    "    \"\"\"\n",
    "    The function takes a string input and determines its data type to be either a float, int, or string. \n",
    "    \"\"\"\n",
    "    try:\n",
    "        int(value)\n",
    "        return (int)\n",
    "    except:\n",
    "        try:\n",
    "            float(value)\n",
    "            return (float)\n",
    "        except:\n",
    "            str(value)\n",
    "            return (str)\n",
    "    raise NotImplementedError()"
   ]
  },
  {
   "cell_type": "markdown",
   "metadata": {},
   "source": [
    " ### PART 2"
   ]
  },
  {
   "cell_type": "markdown",
   "metadata": {},
   "source": [
    "Below function determines the correct data type of all the elements in the list. For example, ['1', '2', '3'] is int, ['1.1', '2.2', '3.3'] is float, ['1.1', '2', '3.3'] is also float, and ['1.1', '234String', '3.3'] is str. The purpose of this function to figure out what to cast an array of strings to. Some lists might be all ints, in which case the data type is int. Some might be a mixure of ints and floats, in which case the data type will be float. Some lists might be a mixture of ints, floats, and strings, in which case the data type of the list will be string."
   ]
  },
  {
   "cell_type": "markdown",
   "metadata": {},
   "source": [
    " "
   ]
  },
  {
   "cell_type": "code",
   "execution_count": 2,
   "metadata": {},
   "outputs": [],
   "source": [
    "def determine_data_type_of_list(values):\n",
    "    \"\"\"\n",
    "    Function takes a list of strings and determines their data type. \n",
    "\n",
    "    \"\"\"\n",
    "    data_type_dict={'<class \\'int\\'>':0, '<class \\'float\\'>':0, '<class \\'str\\'>':0}\n",
    "    for i in range(len(values)):\n",
    "        data_type = (determine_data_type(values[i]))\n",
    "        data_type_dict[str(data_type)]=data_type_dict[str(data_type)]+1\n",
    "    if(data_type_dict['<class \\'float\\'>']==0 and data_type_dict['<class \\'str\\'>']==0):\n",
    "        return int\n",
    "    elif(data_type_dict['<class \\'str\\'>']==0 and data_type_dict['<class \\'float\\'>'] > 0):\n",
    "        return float\n",
    "    else:\n",
    "        return str\n",
    "    raise NotImplementedError()"
   ]
  },
  {
   "cell_type": "markdown",
   "metadata": {},
   "source": [
    " ### PART 3"
   ]
  },
  {
   "cell_type": "markdown",
   "metadata": {},
   "source": [
    "\n",
    "This function inputs a format field and a sample field. The format field looks like `format_field = 'GT:AD:DP:GQ:PGT:PID:PL'` and the sample field looks like\n",
    "\n",
    "```\n",
    "sample_field = {'XG102': '1/1:0,76:76:99:1|1:48306945_C_G:3353,229,0',\n",
    "             'XG103': '1/1:0,52:52:99:.:.:1517,156,0',\n",
    "             'XG104': '0/1:34,38:72:99:.:.:938,0,796',\n",
    "             'XG202': '1/1:0,76:76:99:1|1:48306945_C_G:3353,229,0',\n",
    "             'XG203': '1/1:0,52:52:99:.:.:1517,156,0',\n",
    "             'XG204': '0/1:34,38:72:99:.:.:938,0,796',\n",
    "             'XG302': '1/1:0,76:76:99:1|1:48306945_C_G:3353,229,0',\n",
    "             'XG303': '1/1:0,52:52:99:.:.:1517,156,0',\n",
    "             'XG304': '0/1:34,38:72:99:.:.:938,0,796',\n",
    "             'XG402': '1/1:0,76:76:99:1|1:48306945_C_G:3353,229,0',\n",
    "             'XG403': '1/1:0,52:52:99:.:.:1517,156,0',\n",
    "             'XG404': '0/1:34,38:72:99:.:.:938,0,796'}\n",
    "```\n",
    "Funciton transforms the inputs such that the output looks like this:\n",
    "```\n",
    "output = {'XG102': {'AD': '0,76',\n",
    "           'DP': '76',\n",
    "           'GQ': '99',\n",
    "           'GT': '1/1',\n",
    "           'PGT': '1|1',\n",
    "           'PID': '48306945_C_G',\n",
    "           'PL': '3353,229,0'},\n",
    " 'XG103': {'AD': '0,52',\n",
    "           'DP': '52',\n",
    "           'GQ': '99',\n",
    "           'GT': '1/1',\n",
    "           'PGT': '.',\n",
    "           'PID': '.',\n",
    "           'PL': '1517,156,0'},\n",
    " 'XG104': {'AD': '34,38',\n",
    "           'DP': '72',\n",
    "           'GQ': '99',\n",
    "           'GT': '0/1',\n",
    "           'PGT': '.',\n",
    "           'PID': '.',\n",
    "           'PL': '938,0,796'},\n",
    " 'XG202': {'AD': '0,76',\n",
    "           'DP': '76',\n",
    "           'GQ': '99',\n",
    "           'GT': '1/1',\n",
    "           'PGT': '1|1',\n",
    "           'PID': '48306945_C_G',\n",
    "           'PL': '3353,229,0'},\n",
    " 'XG203': {'AD': '0,52',\n",
    "           'DP': '52',\n",
    "           'GQ': '99',\n",
    "           'GT': '1/1',\n",
    "           'PGT': '.',\n",
    "           'PID': '.',\n",
    "           'PL': '1517,156,0'},\n",
    " 'XG204': {'AD': '34,38',\n",
    "           'DP': '72',\n",
    "           'GQ': '99',\n",
    "           'GT': '0/1',\n",
    "           'PGT': '.',\n",
    "           'PID': '.',\n",
    "           'PL': '938,0,796'},\n",
    " 'XG302': {'AD': '0,76',\n",
    "           'DP': '76',\n",
    "           'GQ': '99',\n",
    "           'GT': '1/1',\n",
    "           'PGT': '1|1',\n",
    "           'PID': '48306945_C_G',\n",
    "           'PL': '3353,229,0'},\n",
    " 'XG303': {'AD': '0,52',\n",
    "           'DP': '52',\n",
    "           'GQ': '99',\n",
    "           'GT': '1/1',\n",
    "           'PGT': '.',\n",
    "           'PID': '.',\n",
    "           'PL': '1517,156,0'},\n",
    " 'XG304': {'AD': '34,38',\n",
    "           'DP': '72',\n",
    "           'GQ': '99',\n",
    "           'GT': '0/1',\n",
    "           'PGT': '.',\n",
    "           'PID': '.',\n",
    "           'PL': '938,0,796'},\n",
    " 'XG402': {'AD': '0,76',\n",
    "           'DP': '76',\n",
    "           'GQ': '99',\n",
    "           'GT': '1/1',\n",
    "           'PGT': '1|1',\n",
    "           'PID': '48306945_C_G',\n",
    "           'PL': '3353,229,0'},\n",
    " 'XG403': {'AD': '0,52',\n",
    "           'DP': '52',\n",
    "           'GQ': '99',\n",
    "           'GT': '1/1',\n",
    "           'PGT': '.',\n",
    "           'PID': '.',\n",
    "           'PL': '1517,156,0'},\n",
    " 'XG404': {'AD': '34,38',\n",
    "           'DP': '72',\n",
    "           'GQ': '99',\n",
    "           'GT': '0/1',\n",
    "           'PGT': '.',\n",
    "           'PID': '.',\n",
    "           'PL': '938,0,796'}}\n",
    "```\n"
   ]
  },
  {
   "cell_type": "markdown",
   "metadata": {},
   "source": [
    " "
   ]
  },
  {
   "cell_type": "code",
   "execution_count": 3,
   "metadata": {},
   "outputs": [],
   "source": [
    "def format_sample_fields(format_field, sample_field):\n",
    "    \"\"\"\n",
    "    Formats the sample fields given the description above.\n",
    "    \"\"\"\n",
    "    final_dict ={}\n",
    "    list_format = format_field.split(':')\n",
    "    for item in sample_field:\n",
    "        output_field_dict = {}\n",
    "        value_sample_field = []\n",
    "        value_sample_field = sample_field[item].split(':')        \n",
    "        for i in range(len(list_format)):\n",
    "            output_field_dict[list_format[i]]=value_sample_field[i]\n",
    "        final_dict[item]=output_field_dict\n",
    "    return final_dict\n",
    "    raise NotImplementedError()"
   ]
  },
  {
   "cell_type": "markdown",
   "metadata": {},
   "source": [
    "### PART 4"
   ]
  },
  {
   "cell_type": "markdown",
   "metadata": {},
   "source": [
    "Below function inputs are a list containing the vcf header and a variant line.  The function returns a dictionary using the header as keys and the variant line as values. The function should use the `format_sample_fields` written previously to format the sample fields. The output of the first line looks like this:\n",
    "```\n",
    "{'ALT': 'G',\n",
    " 'CHROM': '4',\n",
    " 'FILTER': 'PASS',\n",
    " 'ID': '.',\n",
    " 'INFO': 'AC=1;AF=0.167;AN=6;BaseQRankSum=-2.542;ClippingRankSum=0;DP=180;ExcessHet=3.0103;FS=0;MLEAC=1;MLEAF=0.167;MQ=52.77;MQRankSum=-4.631;QD=0.39;ReadPosRankSum=1.45;SOR=0.758;VQSLOD=-8.209;culprit=MQ;ANNOVAR_DATE=2018-04-16;Func.refGene=intergenic;Gene.refGene=IL2\\\\x3bIL21;GeneDetail.refGene=dist\\\\x3d38536\\\\x3bdist\\\\x3d117597;ExonicFunc.refGene=.;AAChange.refGene=.;Func.ensGene=intergenic;Gene.ensGene=ENSG00000109471\\\\x3bENSG00000138684;GeneDetail.ensGene=dist\\\\x3d38306\\\\x3bdist\\\\x3d117597;ExonicFunc.ensGene=.;AAChange.ensGene=.;cytoBand=4q27;gwasCatalog=.;tfbsConsSites=.;wgRna=.;targetScanS=.;Gene_symbol=.;OXPHOS_Complex=.;Ensembl_Gene_ID=.;Ensembl_Protein_ID=.;Uniprot_Name=.;Uniprot_ID=.;NCBI_Gene_ID=.;NCBI_Protein_ID=.;Gene_pos=.;AA_pos=.;AA_sub=.;Codon_sub=.;dbSNP_ID=.;PhyloP_46V=.;PhastCons_46V=.;PhyloP_100V=.;PhastCons_100V=.;SiteVar=.;PolyPhen2_prediction=.;PolyPhen2_score=.;SIFT_prediction=.;SIFT_score=.;FatHmm_prediction=.;FatHmm_score=.;PROVEAN_prediction=.;PROVEAN_score=.;MutAss_prediction=.;MutAss_score=.;EFIN_Swiss_Prot_Score=.;EFIN_Swiss_Prot_Prediction=.;EFIN_HumDiv_Score=.;EFIN_HumDiv_Prediction=.;CADD_score=.;CADD_Phred_score=.;CADD_prediction=.;Carol_prediction=.;Carol_score=.;Condel_score=.;Condel_pred=.;COVEC_WMV=.;COVEC_WMV_prediction=.;PolyPhen2_score_transf=.;PolyPhen2_pred_transf=.;SIFT_score_transf=.;SIFT_pred_transf=.;MutAss_score_transf=.;MutAss_pred_transf=.;Perc_coevo_Sites=.;Mean_MI_score=.;COSMIC_ID=.;Tumor_site=.;Examined_samples=.;Mutation_frequency=.;US=.;Status=.;Associated_disease=.;Presence_in_TD=.;Class_predicted=.;Prob_N=.;Prob_P=.;SIFT_score=.;SIFT_converted_rankscore=.;SIFT_pred=.;Polyphen2_HDIV_score=.;Polyphen2_HDIV_rankscore=.;Polyphen2_HDIV_pred=.;Polyphen2_HVAR_score=.;Polyphen2_HVAR_rankscore=.;Polyphen2_HVAR_pred=.;LRT_score=.;LRT_converted_rankscore=.;LRT_pred=.;MutationTaster_score=.;MutationTaster_converted_rankscore=.;MutationTaster_pred=.;MutationAssessor_score=.;MutationAssessor_score_rankscore=.;MutationAssessor_pred=.;FATHMM_score=.;FATHMM_converted_rankscore=.;FATHMM_pred=.;PROVEAN_score=.;PROVEAN_converted_rankscore=.;PROVEAN_pred=.;VEST3_score=.;VEST3_rankscore=.;MetaSVM_score=.;MetaSVM_rankscore=.;MetaSVM_pred=.;MetaLR_score=.;MetaLR_rankscore=.;MetaLR_pred=.;M-CAP_score=.;M-CAP_rankscore=.;M-CAP_pred=.;CADD_raw=.;CADD_raw_rankscore=.;CADD_phred=.;DANN_score=.;DANN_rankscore=.;fathmm-MKL_coding_score=.;fathmm-MKL_coding_rankscore=.;fathmm-MKL_coding_pred=.;Eigen_coding_or_noncoding=.;Eigen-raw=.;Eigen-PC-raw=.;GenoCanyon_score=.;GenoCanyon_score_rankscore=.;integrated_fitCons_score=.;integrated_fitCons_score_rankscore=.;integrated_confidence_value=.;GERP++_RS=.;GERP++_RS_rankscore=.;phyloP100way_vertebrate=.;phyloP100way_vertebrate_rankscore=.;phyloP20way_mammalian=.;phyloP20way_mammalian_rankscore=.;phastCons100way_vertebrate=.;phastCons100way_vertebrate_rankscore=.;phastCons20way_mammalian=.;phastCons20way_mammalian_rankscore=.;SiPhy_29way_logOdds=.;SiPhy_29way_logOdds_rankscore=.;Interpro_domain=.;GTEx_V6_gene=.;GTEx_V6_tissue=.;esp6500siv2_all=.;esp6500siv2_aa=.;esp6500siv2_ea=.;ExAC_ALL=.;ExAC_AFR=.;ExAC_AMR=.;ExAC_EAS=.;ExAC_FIN=.;ExAC_NFE=.;ExAC_OTH=.;ExAC_SAS=.;ExAC_nontcga_ALL=.;ExAC_nontcga_AFR=.;ExAC_nontcga_AMR=.;ExAC_nontcga_EAS=.;ExAC_nontcga_FIN=.;ExAC_nontcga_NFE=.;ExAC_nontcga_OTH=.;ExAC_nontcga_SAS=.;ExAC_nonpsych_ALL=.;ExAC_nonpsych_AFR=.;ExAC_nonpsych_AMR=.;ExAC_nonpsych_EAS=.;ExAC_nonpsych_FIN=.;ExAC_nonpsych_NFE=.;ExAC_nonpsych_OTH=.;ExAC_nonpsych_SAS=.;1000g2015aug_all=.;1000g2015aug_afr=.;1000g2015aug_amr=.;1000g2015aug_eur=.;1000g2015aug_sas=.;CLNALLELEID=.;CLNDN=.;CLNDISDB=.;CLNREVSTAT=.;CLNSIG=.;dbscSNV_ADA_SCORE=.;dbscSNV_RF_SCORE=.;snp138NonFlagged=.;avsnp150=.;CADD13_RawScore=0.015973;CADD13_PHRED=2.741;Eigen=-0.3239;REVEL=.;MCAP=.;Interpro_domain=.;ICGC_Id=.;ICGC_Occurrence=.;gnomAD_genome_ALL=0.0003;gnomAD_genome_AFR=0.0001;gnomAD_genome_AMR=0;gnomAD_genome_ASJ=0;gnomAD_genome_EAS=0.0007;gnomAD_genome_FIN=0.0009;gnomAD_genome_NFE=0.0002;gnomAD_genome_OTH=0.0011;gerp++gt2=.;cosmic70=.;InterVar_automated=.;PVS1=.;PS1=.;PS2=.;PS3=.;PS4=.;PM1=.;PM2=.;PM3=.;PM4=.;PM5=.;PM6=.;PP1=.;PP2=.;PP3=.;PP4=.;PP5=.;BA1=.;BS1=.;BS2=.;BS3=.;BS4=.;BP1=.;BP2=.;BP3=.;BP4=.;BP5=.;BP6=.;BP7=.;Kaviar_AF=.;Kaviar_AC=.;Kaviar_AN=.;ALLELE_END',\n",
    " 'POS': '123416186',\n",
    " 'QUAL': '23.25',\n",
    " 'REF': 'A',\n",
    " 'SAMPLE': {'XG102': {'AD': '51,8',\n",
    "            'DP': '59',\n",
    "            'GQ': '32',\n",
    "            'GT': '0/1',\n",
    "            'PL': '32,0,1388'},\n",
    "       'XG103': {'AD': '47,0',\n",
    "            'DP': '47',\n",
    "            'GQ': '99',\n",
    "            'GT': '0/0',\n",
    "            'PL': '0,114,1353'},\n",
    "       'XG104': {'AD': '74,0',\n",
    "            'DP': '74',\n",
    "            'GQ': '51',\n",
    "            'GT': '0/0',\n",
    "            'PL': '0,51,1827'},\n",
    "       'XG202': {'AD': '51,8',\n",
    "            'DP': '59',\n",
    "            'GQ': '32',\n",
    "            'GT': '0/1',\n",
    "            'PL': '32,0,1388'},\n",
    "       'XG203': {'AD': '47,0',\n",
    "            'DP': '47',\n",
    "            'GQ': '99',\n",
    "            'GT': '0/0',\n",
    "            'PL': '0,114,1353'},\n",
    "       'XG204': {'AD': '74,0',\n",
    "            'DP': '74',\n",
    "            'GQ': '51',\n",
    "            'GT': '0/0',\n",
    "            'PL': '0,51,1827'},\n",
    "       'XG302': {'AD': '51,8',\n",
    "            'DP': '59',\n",
    "            'GQ': '32',\n",
    "            'GT': '0/1',\n",
    "            'PL': '32,0,1388'},\n",
    "       'XG303': {'AD': '47,0',\n",
    "            'DP': '47',\n",
    "            'GQ': '99',\n",
    "            'GT': '0/0',\n",
    "            'PL': '0,114,1353'},\n",
    "       'XG304': {'AD': '74,0',\n",
    "            'DP': '74',\n",
    "            'GQ': '51',\n",
    "            'GT': '0/0',\n",
    "            'PL': '0,51,1827'},\n",
    "       'XG402': {'AD': '51,8',\n",
    "            'DP': '59',\n",
    "            'GQ': '32',\n",
    "            'GT': '0/1',\n",
    "            'PL': '32,0,1388'},\n",
    "       'XG403': {'AD': '47,0',\n",
    "            'DP': '47',\n",
    "            'GQ': '99',\n",
    "            'GT': '0/0',\n",
    "            'PL': '0,114,1353'},\n",
    "       'XG404': {'AD': '74,0',\n",
    "            'DP': '74',\n",
    "            'GQ': '51',\n",
    "            'GT': '0/0',\n",
    "            'PL': '0,51,1827'}}}\n",
    "            \n",
    "```\n"
   ]
  },
  {
   "cell_type": "markdown",
   "metadata": {},
   "source": [
    " "
   ]
  },
  {
   "cell_type": "code",
   "execution_count": 4,
   "metadata": {},
   "outputs": [],
   "source": [
    "def create_dict_from_line(header, line):\n",
    "    \"\"\"\n",
    "    Given the header and a single line, transform them into dictionary as described above. Header and line input are provided in this cell. \n",
    "    \"\"\"\n",
    "    list_line = line.split('\\t')\n",
    "    intermediate_dict={}\n",
    "    for item in range(len(header)):\n",
    "        intermediate_dict[header[item]]=list_line[item]\n",
    "    a=intermediate_dict['FORMAT']\n",
    "    del intermediate_dict['FORMAT']\n",
    "    b={}\n",
    "    sample_list= header[9:]\n",
    "    for i in range(len(sample_list)):\n",
    "        b[sample_list[i]]=intermediate_dict[sample_list[i]]\n",
    "        del intermediate_dict[sample_list[i]]\n",
    "    sample_dict = format_sample_fields(a,b)\n",
    "    intermediate_dict['SAMPLE']=sample_dict\n",
    "    return intermediate_dict\n",
    "    raise NotImplementedError()\n"
   ]
  },
  {
   "cell_type": "markdown",
   "metadata": {},
   "source": [
    " ### PART 5"
   ]
  },
  {
   "cell_type": "markdown",
   "metadata": {},
   "source": [
    "Below function whose input is a filename for a vcf. The function reads the vcf file one variant at a time and transforms it into a dictionary using the create_dict_from_line function. It returns a list containing all the variant dictionaries. "
   ]
  },
  {
   "cell_type": "markdown",
   "metadata": {},
   "source": [
    " "
   ]
  },
  {
   "cell_type": "code",
   "execution_count": 5,
   "metadata": {},
   "outputs": [],
   "source": [
    "def read_vcf_file(filename):\n",
    "    \"\"\"\n",
    "    See description above\n",
    "    \"\"\"\n",
    "    # YOUR CODE HERE\n",
    "    #single_variant_header = open(filename, 'r').readline().strip('#').strip('\\n')\n",
    "    with open(filename) as f:\n",
    "        variant_list=[]\n",
    "        for line in f:\n",
    "            if(line.startswith(\"##\")==False):\n",
    "                if(line.startswith('#')):\n",
    "                    line=line.strip('#').strip('\\n')\n",
    "                    header_list=line.split('\\t')\n",
    "                else:\n",
    "                    stripped_line=line.strip('\\n')\n",
    "                    single_variant = create_dict_from_line(header_list,stripped_line)\n",
    "                    variant_list.append(single_variant)\n",
    "    return variant_list\n",
    "    raise NotImplementedError()"
   ]
  },
  {
   "cell_type": "markdown",
   "metadata": {},
   "source": [
    " ### PART 6"
   ]
  },
  {
   "cell_type": "markdown",
   "metadata": {},
   "source": [
    "Below function extracts the info field from the data dictionary that was created in the previous part. The function returns all the info field dictionaries as list. \n"
   ]
  },
  {
   "cell_type": "markdown",
   "metadata": {},
   "source": [
    " "
   ]
  },
  {
   "cell_type": "code",
   "execution_count": 6,
   "metadata": {},
   "outputs": [],
   "source": [
    "def extract_info_field(data):\n",
    "    \"\"\"\n",
    "    See description in part 6\n",
    "    \"\"\"\n",
    "    info_list=[]\n",
    "    for i in range(len(data)):\n",
    "        info_list.append(data[i]['INFO'])\n",
    "    return info_list\n",
    "    raise NotImplementedError()"
   ]
  },
  {
   "cell_type": "markdown",
   "metadata": {},
   "source": [
    " ### PART 7"
   ]
  },
  {
   "cell_type": "markdown",
   "metadata": {},
   "source": [
    "We now need to figure out that data types for each of the info fields. \n",
    "Below is the function that first takes the info fields and turns them into a dictionary. The function skips any fields that do not have a value or are missing a value. Also replace \\\\x3b with a comma and \\\\x3d with an equal sign.  "
   ]
  },
  {
   "cell_type": "markdown",
   "metadata": {},
   "source": [
    " "
   ]
  },
  {
   "cell_type": "code",
   "execution_count": 7,
   "metadata": {},
   "outputs": [],
   "source": [
    "def create_dictionary_of_info_field_values(data):\n",
    "    \"\"\"\n",
    "    We now need to figure out that data types for each of the info fields. Below is the function that first takes the info fields and turns them into a dictionary. The function skips any fields that do not have a value or are missing a value. Also replace \\x3b with a comma and \\x3d with an equal sign.\n",
    "    \"\"\"\n",
    "    keys = []\n",
    "    values = []\n",
    "    for x in data[0].split(';'):\n",
    "        try:\n",
    "            val = (x.split('=')[1].replace('\\\\x3b',',').replace('\\\\x3d','=')).strip('^\\.$')\n",
    "            values.append(val)\n",
    "            key = x.split('=')[0].replace('\\\\x3b',',').replace('\\\\x3d','=')\n",
    "            keys.append(key)\n",
    "        except:\n",
    "            pass\n",
    "    \n",
    "    output = dict(zip(keys,([x] if x else [] for x in values)))\n",
    "    return output\n",
    "    raise NotImplementedError()"
   ]
  },
  {
   "cell_type": "markdown",
   "metadata": {},
   "source": [
    "### PART 8"
   ]
  },
  {
   "cell_type": "code",
   "execution_count": 8,
   "metadata": {},
   "outputs": [],
   "source": [
    "def determine_data_type_of_info_fields(data):\n",
    "    \"\"\"\n",
    "    This function's input is the output from `create_dictionary_of_info_field_values` and uses the previously written function `determine_data_type_of_list` to determine the data type of each of the info fields. The output is a dictionary whose keys are the name of the info fields and values are the data type. \n",
    "    \"\"\"\n",
    "    data_type_dict={}\n",
    "    for item in data:\n",
    "        data_value_list = data[item]\n",
    "        list_data_type = determine_data_type_of_list(data_value_list)\n",
    "        data_type_dict[item]=list_data_type\n",
    "    return data_type_dict    \n",
    "    raise NotImplementedError()"
   ]
  },
  {
   "cell_type": "markdown",
   "metadata": {},
   "source": [
    "### PART 9"
   ]
  },
  {
   "cell_type": "markdown",
   "metadata": {},
   "source": [
    "Below function whose first input is the data from  `read_vcf_file` and the second input is the output from `determine_data_type_of_info_fields`. The function converts the info field into a dictionary and uses the data types that we determined to cast each field into the correct data type. We alsr convert the `POS` to int and `QUAL` to float. Replace any `\\\\x3b` with a comma and any `\\\\x3d` with an equal sign. The output will look something like this (I have removed most of the fields):\n",
    "\n",
    "The output will look something like this \n",
    "```\n",
    "{\n",
    "        \"ALT\": \"G\",\n",
    "        \"CHROM\": \"4\",\n",
    "        \"FILTER\": \"PASS\",\n",
    "        \"ID\": \".\",\n",
    "        \"INFO\": {\n",
    "           \n",
    "            \"Gene.ensGene\": \"ENSG00000109471,ENSG00000138684\",\n",
    "            \"Gene.refGene\": \"IL2,IL21\",\n",
    "            \"GeneDetail.ensGene\": \"dist=38306,dist=117597\",\n",
    "            \"GeneDetail.refGene\": \"dist=38536,dist=117597\"\n",
    "        },\n",
    "        \"POS\": 123416186,\n",
    "        \"QUAL\" :23.25,\n",
    "        \"REF\": \"A\",\n",
    "        \"SAMPLE\": {\n",
    "            \"XG102\": {\n",
    "                \"AD\": \"51,8\",\n",
    "                \"DP\": \"59\",\n",
    "                \"GQ\": \"32\",\n",
    "                \"GT\": \"0/1\",\n",
    "                \"PL\": \"32,0,1388\"\n",
    "            }\n",
    "    }\n",
    "```"
   ]
  },
  {
   "cell_type": "markdown",
   "metadata": {},
   "source": [
    " "
   ]
  },
  {
   "cell_type": "code",
   "execution_count": 9,
   "metadata": {},
   "outputs": [],
   "source": [
    "def format_data(data, info_field_data_type):\n",
    "    data_list=[]\n",
    "    info_field_data = extract_info_field(data) # extract all the info fields\n",
    "    for i in range(len(data)):\n",
    "        info_field_list_dict={}\n",
    "        temp_list=[]\n",
    "        temp_list.append(info_field_data[i])\n",
    "        info_field_list = create_dictionary_of_info_field_values(temp_list) # create dictionary from info fields\n",
    "        info_field_data_type = determine_data_type_of_info_fields(info_field_list) # Determine data type of each info field\n",
    "        for item in info_field_list:\n",
    "            try:\n",
    "                info_field_list[item]=(info_field_data_type[item](info_field_list[item][0]))\n",
    "                info_field_list_dict[item]=info_field_list[item]\n",
    "            except IndexError as error:\n",
    "                continue\n",
    "        data_dict=data[i]\n",
    "        data_dict['POS']=int(data_dict['POS'])\n",
    "        data_dict['QUAL']=float(data_dict['QUAL'])\n",
    "        data_dict['INFO']=info_field_list_dict\n",
    "        data_list.append(data_dict)\n",
    "    return data_list\n",
    "    raise NotImplementedError()\n"
   ]
  },
  {
   "cell_type": "markdown",
   "metadata": {},
   "source": [
    " ### PART 10"
   ]
  },
  {
   "cell_type": "markdown",
   "metadata": {},
   "source": [
    "Below function whose inputs are a Python dictionary and filename. The function will save the dictionary as a json file using the filename given. Use the json library. \n",
    "We use this function to save your parsed data as a json file. "
   ]
  },
  {
   "cell_type": "markdown",
   "metadata": {},
   "source": [
    " "
   ]
  },
  {
   "cell_type": "code",
   "execution_count": 10,
   "metadata": {},
   "outputs": [],
   "source": [
    "import json\n",
    "def save_data_as_json(data, filename):\n",
    "    with open(filename,'w') as file:\n",
    "        return json.dump(data,file,sort_keys=True, indent=4, separators=(',', ': '))\n",
    "        \n",
    "    raise NotImplementedError()"
   ]
  },
  {
   "cell_type": "markdown",
   "metadata": {},
   "source": [
    "### PART 11"
   ]
  },
  {
   "cell_type": "code",
   "execution_count": 11,
   "metadata": {},
   "outputs": [],
   "source": [
    "def load_data_from_json(filename):\n",
    "    '''This function whose input is a filename for a json file. The function uses the filename to read the JSON file in which we saved our final parsed data. '''\n",
    "    with open(filename) as file:\n",
    "        return json.load(file)\n",
    "    raise NotImplementedError()"
   ]
  },
  {
   "cell_type": "markdown",
   "metadata": {},
   "source": [
    "### PART 12"
   ]
  },
  {
   "cell_type": "code",
   "execution_count": 12,
   "metadata": {},
   "outputs": [],
   "source": [
    "def find_variant(CHROM, REF, ALT, POS, filename):\n",
    "    data = read_vcf_file('lab1_data.vcf') # read vcf file\n",
    "    info_field_data = extract_info_field(data) # extract all the info fields\n",
    "    info_field_list = create_dictionary_of_info_field_values(info_field_data) # create dictionary from info fields\n",
    "    info_field_data_type = determine_data_type_of_info_fields(info_field_list) # Determine data type of each info field\n",
    "    data = format_data(data, info_field_data_type) # format the data variable -- from data = read_vcf_file(filename)\n",
    "    save_data_as_json(data, filename) # save the formatted data\n",
    "    data_loaded = load_data_from_json(filename) # load saved data\n",
    "    final_variant_list=[]\n",
    "    for i in range(len(data_loaded)):\n",
    "        if (data_loaded[i]['CHROM']==CHROM and data_loaded[i]['REF']==REF and data_loaded[i]['ALT']==ALT and data_loaded[i]['POS']==POS):\n",
    "            final_variant_list.append(data_loaded[i])\n",
    "        else:\n",
    "            continue\n",
    "    return final_variant_list"
   ]
  },
  {
   "cell_type": "code",
   "execution_count": 13,
   "metadata": {},
   "outputs": [],
   "source": [
    "result1 = find_variant(\"13\", \"T\", \"G\", 56292303, 'lab1.json')\n",
    "\n",
    "\n",
    "expected_result1 = [{'INFO': {'1000g2015aug_eur': 1, 'BaseQRankSum': 1.77, 'Gene.refGene': 'MIR5007,PRR20D', 'cytoBand': '13q21.1', 'gnomAD_genome_FIN': 0.9951, '1000g2015aug_amr': 0.9841, 'gnomAD_genome_AFR': 0.8475, 'FS': 0.0, 'gnomAD_genome_NFE': 0.9987, 'MQRankSum': 0.0, 'snp138NonFlagged': 'rs4421887', 'gnomAD_genome_ALL': 0.9546, 'DP': 176, 'ExcessHet': 3.0103, 'gnomAD_genome_OTH': 0.9887, 'MLEAF': 1.0, 'culprit': 'MQ', '1000g2015aug_afr': 0.8313, 'SOR': 0.257, 'VQSLOD': 22.53, 'MQ': 60.0, 'ClippingRankSum': 0, 'Kaviar_AF': 0.0001153, 'AC': 6, 'Kaviar_AC': 3, 'AF': 1.0, 'Kaviar_AN': 26028, 'Func.refGene': 'intergenic', 'AN': 6, 'CADD13_PHRED': 3.712, '1000g2015aug_all': 0.952676, 'CADD13_RawScore': 0.109684, '1000g2015aug_sas': 0.9969, 'GeneDetail.ensGene': 'dist=543620,dist=281031', 'ANNOVAR_DATE': '2018-04-16', 'Func.ensGene': 'intergenic', 'ReadPosRankSum': -0.338, 'gnomAD_genome_ASJ': 0.9834, 'gnomAD_genome_AMR': 0.9843, 'Eigen': -0.7945, 'avsnp150': 'rs4421887', 'MLEAC': 6, 'gnomAD_genome_EAS': 1.0, 'GeneDetail.refGene': 'dist=543620,dist=1422749', 'QD': 28.95, 'Gene.ensGene': 'ENSG00000264387,ENSG00000228611'}, 'SAMPLE': {'XG404': {'GT': '1/1', 'GQ': '99', 'AD': '1,70', 'DP': '71', 'PL': '2037,202,0'}, 'XG402': {'GT': '1/1', 'GQ': '99', 'AD': '0,62', 'DP': '62', 'PL': '1796,185,0'}, 'XG403': {'GT': '1/1', 'GQ': '99', 'AD': '0,41', 'DP': '41', 'PL': '1218,122,0'}, 'XG303': {'GT': '1/1', 'GQ': '99', 'AD': '0,41', 'DP': '41', 'PL': '1218,122,0'}, 'XG302': {'GT': '1/1', 'GQ': '99', 'AD': '0,62', 'DP': '62', 'PL': '1796,185,0'}, 'XG304': {'GT': '1/1', 'GQ': '99', 'AD': '1,70', 'DP': '71', 'PL': '2037,202,0'}, 'XG202': {'GT': '1/1', 'GQ': '99', 'AD': '0,62', 'DP': '62', 'PL': '1796,185,0'}, 'XG203': {'GT': '1/1', 'GQ': '99', 'AD': '0,41', 'DP': '41', 'PL': '1218,122,0'}, 'XG204': {'GT': '1/1', 'GQ': '99', 'AD': '1,70', 'DP': '71', 'PL': '2037,202,0'}, 'XG103': {'GT': '1/1', 'GQ': '99', 'AD': '0,41', 'DP': '41', 'PL': '1218,122,0'}, 'XG102': {'GT': '1/1', 'GQ': '99', 'AD': '0,62', 'DP': '62', 'PL': '1796,185,0'}, 'XG104': {'GT': '1/1', 'GQ': '99', 'AD': '1,70', 'DP': '71', 'PL': '2037,202,0'}}, 'REF': 'T', 'POS': 56292303, 'FILTER': 'PASS', 'QUAL': 5037.69, 'ALT': 'G', 'CHROM': '13', 'ID': 'rs4421887'}]\n",
    "\n",
    "\n",
    "assert expected_result1==result1"
   ]
  },
  {
   "cell_type": "code",
   "execution_count": 14,
   "metadata": {},
   "outputs": [
    {
     "data": {
      "text/plain": [
       "[{'ALT': 'G',\n",
       "  'CHROM': '13',\n",
       "  'FILTER': 'PASS',\n",
       "  'ID': 'rs4421887',\n",
       "  'INFO': {'1000g2015aug_afr': 0.8313,\n",
       "   '1000g2015aug_all': 0.952676,\n",
       "   '1000g2015aug_amr': 0.9841,\n",
       "   '1000g2015aug_eur': 1,\n",
       "   '1000g2015aug_sas': 0.9969,\n",
       "   'AC': 6,\n",
       "   'AF': 1,\n",
       "   'AN': 6,\n",
       "   'ANNOVAR_DATE': '2018-04-16',\n",
       "   'BaseQRankSum': 1.77,\n",
       "   'CADD13_PHRED': 3.712,\n",
       "   'CADD13_RawScore': 0.109684,\n",
       "   'ClippingRankSum': 0,\n",
       "   'DP': 176,\n",
       "   'Eigen': -0.7945,\n",
       "   'ExcessHet': 3.0103,\n",
       "   'FS': 0,\n",
       "   'Func.ensGene': 'intergenic',\n",
       "   'Func.refGene': 'intergenic',\n",
       "   'Gene.ensGene': 'ENSG00000264387,ENSG00000228611',\n",
       "   'Gene.refGene': 'MIR5007,PRR20D',\n",
       "   'GeneDetail.ensGene': 'dist=543620,dist=281031',\n",
       "   'GeneDetail.refGene': 'dist=543620,dist=1422749',\n",
       "   'Kaviar_AC': 3,\n",
       "   'Kaviar_AF': 0.0001153,\n",
       "   'Kaviar_AN': 26028,\n",
       "   'MLEAC': 6,\n",
       "   'MLEAF': 1,\n",
       "   'MQ': 60,\n",
       "   'MQRankSum': 0,\n",
       "   'QD': 28.95,\n",
       "   'ReadPosRankSum': -0.338,\n",
       "   'SOR': 0.257,\n",
       "   'VQSLOD': 22.53,\n",
       "   'avsnp150': 'rs4421887',\n",
       "   'culprit': 'MQ',\n",
       "   'cytoBand': '13q21.1',\n",
       "   'gnomAD_genome_AFR': 0.8475,\n",
       "   'gnomAD_genome_ALL': 0.9546,\n",
       "   'gnomAD_genome_AMR': 0.9843,\n",
       "   'gnomAD_genome_ASJ': 0.9834,\n",
       "   'gnomAD_genome_EAS': 1,\n",
       "   'gnomAD_genome_FIN': 0.9951,\n",
       "   'gnomAD_genome_NFE': 0.9987,\n",
       "   'gnomAD_genome_OTH': 0.9887,\n",
       "   'snp138NonFlagged': 'rs4421887'},\n",
       "  'POS': 56292303,\n",
       "  'QUAL': 5037.69,\n",
       "  'REF': 'T',\n",
       "  'SAMPLE': {'XG102': {'AD': '0,62',\n",
       "    'DP': '62',\n",
       "    'GQ': '99',\n",
       "    'GT': '1/1',\n",
       "    'PL': '1796,185,0'},\n",
       "   'XG103': {'AD': '0,41',\n",
       "    'DP': '41',\n",
       "    'GQ': '99',\n",
       "    'GT': '1/1',\n",
       "    'PL': '1218,122,0'},\n",
       "   'XG104': {'AD': '1,70',\n",
       "    'DP': '71',\n",
       "    'GQ': '99',\n",
       "    'GT': '1/1',\n",
       "    'PL': '2037,202,0'},\n",
       "   'XG202': {'AD': '0,62',\n",
       "    'DP': '62',\n",
       "    'GQ': '99',\n",
       "    'GT': '1/1',\n",
       "    'PL': '1796,185,0'},\n",
       "   'XG203': {'AD': '0,41',\n",
       "    'DP': '41',\n",
       "    'GQ': '99',\n",
       "    'GT': '1/1',\n",
       "    'PL': '1218,122,0'},\n",
       "   'XG204': {'AD': '1,70',\n",
       "    'DP': '71',\n",
       "    'GQ': '99',\n",
       "    'GT': '1/1',\n",
       "    'PL': '2037,202,0'},\n",
       "   'XG302': {'AD': '0,62',\n",
       "    'DP': '62',\n",
       "    'GQ': '99',\n",
       "    'GT': '1/1',\n",
       "    'PL': '1796,185,0'},\n",
       "   'XG303': {'AD': '0,41',\n",
       "    'DP': '41',\n",
       "    'GQ': '99',\n",
       "    'GT': '1/1',\n",
       "    'PL': '1218,122,0'},\n",
       "   'XG304': {'AD': '1,70',\n",
       "    'DP': '71',\n",
       "    'GQ': '99',\n",
       "    'GT': '1/1',\n",
       "    'PL': '2037,202,0'},\n",
       "   'XG402': {'AD': '0,62',\n",
       "    'DP': '62',\n",
       "    'GQ': '99',\n",
       "    'GT': '1/1',\n",
       "    'PL': '1796,185,0'},\n",
       "   'XG403': {'AD': '0,41',\n",
       "    'DP': '41',\n",
       "    'GQ': '99',\n",
       "    'GT': '1/1',\n",
       "    'PL': '1218,122,0'},\n",
       "   'XG404': {'AD': '1,70',\n",
       "    'DP': '71',\n",
       "    'GQ': '99',\n",
       "    'GT': '1/1',\n",
       "    'PL': '2037,202,0'}}}]"
      ]
     },
     "execution_count": 14,
     "metadata": {},
     "output_type": "execute_result"
    }
   ],
   "source": [
    "find_variant(\"13\", \"T\", \"G\", 56292303, 'lab1.json')"
   ]
  }
 ],
 "metadata": {
  "kernelspec": {
   "display_name": "Python 3",
   "language": "python",
   "name": "python3"
  },
  "language_info": {
   "codemirror_mode": {
    "name": "ipython",
    "version": 3
   },
   "file_extension": ".py",
   "mimetype": "text/x-python",
   "name": "python",
   "nbconvert_exporter": "python",
   "pygments_lexer": "ipython3",
   "version": "3.6.5"
  }
 },
 "nbformat": 4,
 "nbformat_minor": 2
}
